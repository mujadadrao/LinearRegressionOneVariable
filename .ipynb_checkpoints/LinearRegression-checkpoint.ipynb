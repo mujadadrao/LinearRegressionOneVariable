{
 "cells": [
  {
   "cell_type": "code",
   "execution_count": 1,
   "metadata": {},
   "outputs": [],
   "source": [
    "import numpy as np\n",
    "import time\n",
    "import matplotlib.pyplot as plt\n",
    "%matplotlib inline"
   ]
  },
  {
   "cell_type": "code",
   "execution_count": 2,
   "metadata": {},
   "outputs": [],
   "source": [
    "start_time = time.time()"
   ]
  },
  {
   "cell_type": "markdown",
   "metadata": {},
   "source": [
    "### Generating Data"
   ]
  },
  {
   "cell_type": "code",
   "execution_count": 3,
   "metadata": {},
   "outputs": [],
   "source": [
    "# A simple function generating random predictors and responses!\n",
    "def gen_data(start=2, end=100, step=2, add_noise=0):\n",
    "    x = np.arange(start, end, step)\n",
    "    y = 10 + 5*x\n",
    "    \n",
    "    if add_noise > 0:\n",
    "        y = np.random.normal(y, add_noise)\n",
    "        \n",
    "    return x, y"
   ]
  },
  {
   "cell_type": "markdown",
   "metadata": {},
   "source": [
    "### Cost Function"
   ]
  },
  {
   "cell_type": "code",
   "execution_count": 4,
   "metadata": {},
   "outputs": [],
   "source": [
    "#The cost function J(theta0, theta1)\n",
    "def cost_function(x, y, params):\n",
    "    m = len(y)    \n",
    "    \n",
    "    squared_sum_of_errors = 0\n",
    "    \n",
    "    for i, xi in enumerate(np.nditer(x)):\n",
    "        op = ((params[0] + params[1]*xi) - y[i])**2\n",
    "        squared_sum_of_errors += op\n",
    "\n",
    "    cost = squared_sum_of_errors/(2*m)\n",
    "    \n",
    "    return cost\n"
   ]
  },
  {
   "cell_type": "markdown",
   "metadata": {},
   "source": [
    "### Function to calculate Sum of Errors (formula)"
   ]
  },
  {
   "cell_type": "code",
   "execution_count": 5,
   "metadata": {},
   "outputs": [],
   "source": [
    "def calculate_sum_of_errors(x, y, params, with_xi = False):\n",
    "    m = len(y)\n",
    "    sum_of_errors = 0\n",
    "    \n",
    "    for i, xi in enumerate(np.nditer(x)):        \n",
    "        if with_xi:\n",
    "            op = ((params[0] + params[1]*xi) - y[i]) * xi\n",
    "            sum_of_errors += op\n",
    "        else:\n",
    "            op = (params[0] + params[1]*xi) - y[i]\n",
    "            sum_of_errors += op\n",
    "    \n",
    "    return sum_of_errors"
   ]
  },
  {
   "cell_type": "markdown",
   "metadata": {},
   "source": [
    "### Gradient Descent Function"
   ]
  },
  {
   "cell_type": "code",
   "execution_count": 6,
   "metadata": {
    "scrolled": true
   },
   "outputs": [],
   "source": [
    "#Gradient descent\n",
    "def gradient_descent(x, y, params, alpha, precision=0.5 , iterations=0):\n",
    "    \n",
    "    m = len(y)\n",
    "    cost_history = list()\n",
    "    first_iteration = True\n",
    "    iterations = 0\n",
    "    \n",
    "    while True:\n",
    "        \n",
    "        sum_of_errors = calculate_sum_of_errors(x, y, params)\n",
    "        sum_of_errors_xi = calculate_sum_of_errors(x, y, params, with_xi=True)\n",
    "        \n",
    "        temp0 = params[0] - alpha * 1/m * sum_of_errors\n",
    "        temp1 = params[1] - alpha * 1/m * sum_of_errors_xi\n",
    "                \n",
    "        if np.isinf(temp0) or np.isinf(temp1):\n",
    "            break\n",
    "        \n",
    "        params[0] = temp0\n",
    "        params[1] = temp1\n",
    "    \n",
    "        curr_cost = cost_function(x, y, params)\n",
    "                \n",
    "#         print(\"theta0 = {} | theta1 = {} | curr_cost = {}\".format(params[0],params[1], curr_cost))\n",
    "            \n",
    "        if curr_cost < precision:\n",
    "            break\n",
    "        \n",
    "        \n",
    "        if not(first_iteration) and (cost_history[-1] - curr_cost <= precision):\n",
    "            break\n",
    "        \n",
    "        if first_iteration:\n",
    "            first_iteration = False\n",
    "    \n",
    "        cost_history.append(curr_cost)\n",
    "    \n",
    "        iterations += 1\n",
    "        \n",
    "    return params, cost_history, iterations"
   ]
  },
  {
   "cell_type": "markdown",
   "metadata": {},
   "source": [
    "### Intitializing the data variables"
   ]
  },
  {
   "cell_type": "code",
   "execution_count": 7,
   "metadata": {},
   "outputs": [],
   "source": [
    "x, y = gen_data(start=2, end=100, add_noise=30)"
   ]
  },
  {
   "cell_type": "code",
   "execution_count": 8,
   "metadata": {},
   "outputs": [
    {
     "data": {
      "text/plain": [
       "array([ 2,  4,  6,  8, 10, 12, 14, 16, 18, 20, 22, 24, 26, 28, 30, 32, 34,\n",
       "       36, 38, 40, 42, 44, 46, 48, 50, 52, 54, 56, 58, 60, 62, 64, 66, 68,\n",
       "       70, 72, 74, 76, 78, 80, 82, 84, 86, 88, 90, 92, 94, 96, 98])"
      ]
     },
     "execution_count": 8,
     "metadata": {},
     "output_type": "execute_result"
    }
   ],
   "source": [
    "x"
   ]
  },
  {
   "cell_type": "code",
   "execution_count": 9,
   "metadata": {
    "scrolled": false
   },
   "outputs": [
    {
     "data": {
      "text/plain": [
       "array([ -4.07696525,  53.63073945,  30.36184158,  41.19556539,\n",
       "        32.30234385,  50.83195496,  23.89363536, 115.0174473 ,\n",
       "        67.57552416, 103.3655616 ,  88.49199557, 205.81616126,\n",
       "       175.54205763, 107.63453652, 198.95816829, 178.48883262,\n",
       "       120.12173897, 161.21864924, 199.94743484, 190.12277038,\n",
       "       214.77630028, 222.60672468, 242.64534888, 284.77410918,\n",
       "       224.72354814, 298.23107484, 223.05577292, 266.1286065 ,\n",
       "       285.96186379, 273.71201843, 381.32933171, 344.89702399,\n",
       "       338.12254022, 311.77083975, 355.77255771, 324.12983308,\n",
       "       400.04197826, 389.5334134 , 406.15280216, 368.51942654,\n",
       "       461.38732668, 433.16004501, 438.84735155, 497.49817953,\n",
       "       457.71556611, 480.71331512, 479.47784365, 463.10562051,\n",
       "       486.97693169])"
      ]
     },
     "execution_count": 9,
     "metadata": {},
     "output_type": "execute_result"
    }
   ],
   "source": [
    "y"
   ]
  },
  {
   "cell_type": "code",
   "execution_count": 10,
   "metadata": {},
   "outputs": [
    {
     "data": {
      "text/plain": [
       "<matplotlib.collections.PathCollection at 0x7ff126ea7550>"
      ]
     },
     "execution_count": 10,
     "metadata": {},
     "output_type": "execute_result"
    },
    {
     "data": {
      "image/png": "[encoded data removed]",
      "text/plain": [
       "<Figure size 432x288 with 1 Axes>"
      ]
     },
     "metadata": {},
     "output_type": "display_data"
    }
   ],
   "source": [
    "plt.scatter(x, y)"
   ]
  },
  {
   "cell_type": "markdown",
   "metadata": {},
   "source": [
    "### Calculating cost on custom parameters"
   ]
  },
  {
   "cell_type": "code",
   "execution_count": 11,
   "metadata": {
    "scrolled": true
   },
   "outputs": [
    {
     "data": {
      "text/plain": [
       "28016.971876816933"
      ]
     },
     "execution_count": 11,
     "metadata": {},
     "output_type": "execute_result"
    }
   ],
   "source": [
    "params = [1,1]\n",
    "cost_function(x,y, params)"
   ]
  },
  {
   "cell_type": "markdown",
   "metadata": {},
   "source": [
    "### Running the Gradient Descent"
   ]
  },
  {
   "cell_type": "code",
   "execution_count": 12,
   "metadata": {
    "scrolled": true
   },
   "outputs": [],
   "source": [
    "params = [1,1]\n",
    "theta, cs, its = gradient_descent(x, y, params,precision=0.000001, alpha=0.0006)"
   ]
  },
  {
   "cell_type": "code",
   "execution_count": 13,
   "metadata": {
    "scrolled": false
   },
   "outputs": [
    {
     "name": "stdout",
     "output_type": "stream",
     "text": [
      "theta0 = -0.08436355639470196 | theta1 = 5.102996249517572\n"
     ]
    }
   ],
   "source": [
    "print(\"theta0 = {} | theta1 = {}\".format(theta[0], theta[1]))"
   ]
  },
  {
   "cell_type": "markdown",
   "metadata": {},
   "source": [
    "### Plotting the regression line on newly obtained parameters from Gradient Descent"
   ]
  },
  {
   "cell_type": "code",
   "execution_count": 14,
   "metadata": {
    "scrolled": true
   },
   "outputs": [
    {
     "data": {
      "text/plain": [
       "[<matplotlib.lines.Line2D at 0x7ff126e6a4e0>]"
      ]
     },
     "execution_count": 14,
     "metadata": {},
     "output_type": "execute_result"
    },
    {
     "data": {
      "image/png": "[encoded data removed]",
      "text/plain": [
       "<Figure size 432x288 with 1 Axes>"
      ]
     },
     "metadata": {},
     "output_type": "display_data"
    }
   ],
   "source": [
    "y_updated = theta[0] + theta[1]*x\n",
    "plt.scatter(x, y)\n",
    "plt.plot(x, y_updated, color='r')"
   ]
  },
  {
   "cell_type": "markdown",
   "metadata": {},
   "source": [
    "### Adding an outlier - high leverage point"
   ]
  },
  {
   "cell_type": "code",
   "execution_count": 15,
   "metadata": {},
   "outputs": [],
   "source": [
    "x = np.concatenate((x,[80]))"
   ]
  },
  {
   "cell_type": "code",
   "execution_count": 16,
   "metadata": {},
   "outputs": [],
   "source": [
    "y = np.concatenate((y,[-300]))"
   ]
  },
  {
   "cell_type": "code",
   "execution_count": 17,
   "metadata": {
    "scrolled": true
   },
   "outputs": [],
   "source": [
    "params = [1,1]\n",
    "theta, cs, its = gradient_descent(x, y, params,precision=0.000001, alpha=0.0006)\n"
   ]
  },
  {
   "cell_type": "code",
   "execution_count": 18,
   "metadata": {
    "scrolled": false
   },
   "outputs": [
    {
     "name": "stdout",
     "output_type": "stream",
     "text": [
      "theta0 = 1.0010823452527442 | theta1 = 0.8663990226018239\n"
     ]
    }
   ],
   "source": [
    "print(\"theta0 = {} | theta1 = {}\".format(theta[0], theta[1]))"
   ]
  },
  {
   "cell_type": "code",
   "execution_count": 19,
   "metadata": {
    "scrolled": true
   },
   "outputs": [
    {
     "data": {
      "text/plain": [
       "[<matplotlib.lines.Line2D at 0x7ff126e08f60>]"
      ]
     },
     "execution_count": 19,
     "metadata": {},
     "output_type": "execute_result"
    },
    {
     "data": {
      "image/png": "[encoded data removed]",
      "text/plain": [
       "<Figure size 432x288 with 1 Axes>"
      ]
     },
     "metadata": {},
     "output_type": "display_data"
    }
   ],
   "source": [
    "y_updated = theta[0] + theta[1]*x\n",
    "plt.scatter(x, y)\n",
    "plt.plot(x, y_updated, color='r')"
   ]
  },
  {
   "cell_type": "code",
   "execution_count": 20,
   "metadata": {},
   "outputs": [
    {
     "name": "stdout",
     "output_type": "stream",
     "text": [
      "Total time taken by program: 4.2087318897247314 seconds \n"
     ]
    }
   ],
   "source": [
    "print(\"Total time taken by program: {} seconds \".format((time.time() - start_time)))"
   ]
  },
  {
   "cell_type": "code",
   "execution_count": null,
   "metadata": {},
   "outputs": [],
   "source": []
  }
 ],
 "metadata": {
  "kernelspec": {
   "display_name": "Python 3",
   "language": "python",
   "name": "python3"
  },
  "language_info": {
   "codemirror_mode": {
    "name": "ipython",
    "version": 3
   },
   "file_extension": ".py",
   "mimetype": "text/x-python",
   "name": "python",
   "nbconvert_exporter": "python",
   "pygments_lexer": "ipython3",
   "version": "3.5.2"
  }
 },
 "nbformat": 4,
 "nbformat_minor": 2
}
