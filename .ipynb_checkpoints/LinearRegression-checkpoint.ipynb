{
 "cells": [
  {
   "cell_type": "code",
   "execution_count": 1,
   "metadata": {},
   "outputs": [],
   "source": [
    "import numpy as np\n",
    "import time\n",
    "import matplotlib.pyplot as plt\n",
    "%matplotlib inline"
   ]
  },
  {
   "cell_type": "code",
   "execution_count": 2,
   "metadata": {},
   "outputs": [],
   "source": [
    "start_time = time.time()"
   ]
  },
  {
   "cell_type": "markdown",
   "metadata": {},
   "source": [
    "### Generating Data"
   ]
  },
  {
   "cell_type": "code",
   "execution_count": 3,
   "metadata": {},
   "outputs": [],
   "source": [
    "# A simple function generating random predictors and responses!\n",
    "def gen_data(start=2, end=100, step=2, add_noise=0):\n",
    "    x = np.arange(start, end, step)\n",
    "    y = 10 + 5*x\n",
    "    \n",
    "    if add_noise > 0:\n",
    "        y = np.random.normal(y, add_noise)\n",
    "        \n",
    "    return x, y"
   ]
  },
  {
   "cell_type": "markdown",
   "metadata": {},
   "source": [
    "### Cost Function"
   ]
  },
  {
   "cell_type": "code",
   "execution_count": 4,
   "metadata": {},
   "outputs": [],
   "source": [
    "def cost_function(x, y, params):\n",
    "    \n",
    "    m = len(y)    \n",
    "    \n",
    "    squared_sum_of_errors = 0\n",
    "    \n",
    "    for i, xi in enumerate(np.nditer(x)):\n",
    "        op = ((params[0] + params[1]*xi) - y[i])**2\n",
    "        squared_sum_of_errors += op\n",
    "\n",
    "    cost = squared_sum_of_errors/(2*m)\n",
    "    \n",
    "    return cost"
   ]
  },
  {
   "cell_type": "markdown",
   "metadata": {},
   "source": [
    "### Function to calculate Sum of Errors (formula)"
   ]
  },
  {
   "cell_type": "code",
   "execution_count": 5,
   "metadata": {},
   "outputs": [],
   "source": [
    "def calculate_sum_of_errors(x, y, params, with_xi = False):\n",
    "    \n",
    "    m = len(y)\n",
    "    sum_of_errors = 0\n",
    "    \n",
    "    for i, xi in enumerate(np.nditer(x)):        \n",
    "        if with_xi:\n",
    "            op = ((params[0] + params[1]*xi) - y[i]) * xi\n",
    "            sum_of_errors += op\n",
    "        else:\n",
    "            op = (params[0] + params[1]*xi) - y[i]\n",
    "            sum_of_errors += op\n",
    "    \n",
    "    return sum_of_errors"
   ]
  },
  {
   "cell_type": "markdown",
   "metadata": {},
   "source": [
    "### Gradient Descent Function"
   ]
  },
  {
   "cell_type": "code",
   "execution_count": 6,
   "metadata": {
    "scrolled": true
   },
   "outputs": [],
   "source": [
    "def gradient_descent(x, y, params, alpha, precision=0.5 , iterations=0):\n",
    "    \n",
    "    m = len(y)\n",
    "    cost_history = list()\n",
    "    first_iteration = True\n",
    "    iterations = 0\n",
    "    \n",
    "    while True:\n",
    "        \n",
    "        sum_of_errors = calculate_sum_of_errors(x, y, params)\n",
    "        sum_of_errors_xi = calculate_sum_of_errors(x, y, params, with_xi=True)\n",
    "        \n",
    "        temp0 = params[0] - alpha * 1/m * sum_of_errors\n",
    "        temp1 = params[1] - alpha * 1/m * sum_of_errors_xi\n",
    "                \n",
    "        if np.isinf(temp0) or np.isinf(temp1):\n",
    "            break\n",
    "        \n",
    "        params[0] = temp0\n",
    "        params[1] = temp1\n",
    "    \n",
    "        curr_cost = cost_function(x, y, params)\n",
    "                \n",
    "#         print(\"theta0 = {} | theta1 = {} | curr_cost = {}\".format(params[0],params[1], curr_cost))\n",
    "            \n",
    "        if curr_cost < precision:\n",
    "            break\n",
    "        \n",
    "        \n",
    "        if not(first_iteration) and (cost_history[-1] - curr_cost <= precision):\n",
    "            break\n",
    "        \n",
    "        if first_iteration:\n",
    "            first_iteration = False\n",
    "    \n",
    "        cost_history.append(curr_cost)\n",
    "    \n",
    "        iterations += 1\n",
    "        \n",
    "    return params, cost_history, iterations"
   ]
  },
  {
   "cell_type": "markdown",
   "metadata": {},
   "source": [
    "### Intitializing the data variables"
   ]
  },
  {
   "cell_type": "code",
   "execution_count": 7,
   "metadata": {},
   "outputs": [],
   "source": [
    "x, y = gen_data(start=2, end=100, add_noise=30)"
   ]
  },
  {
   "cell_type": "code",
   "execution_count": 8,
   "metadata": {},
   "outputs": [
    {
     "data": {
      "text/plain": [
       "array([ 2,  4,  6,  8, 10, 12, 14, 16, 18, 20, 22, 24, 26, 28, 30, 32, 34,\n",
       "       36, 38, 40, 42, 44, 46, 48, 50, 52, 54, 56, 58, 60, 62, 64, 66, 68,\n",
       "       70, 72, 74, 76, 78, 80, 82, 84, 86, 88, 90, 92, 94, 96, 98])"
      ]
     },
     "execution_count": 8,
     "metadata": {},
     "output_type": "execute_result"
    }
   ],
   "source": [
    "x"
   ]
  },
  {
   "cell_type": "code",
   "execution_count": 9,
   "metadata": {
    "scrolled": false
   },
   "outputs": [
    {
     "data": {
      "text/plain": [
       "array([ 59.68189054,  10.06690256,   7.051263  ,  43.49760429,\n",
       "        65.14607441, 131.74585889,  47.883685  ,  79.25456658,\n",
       "        95.452657  , 124.88620707, 114.34868176, 103.46404701,\n",
       "       136.19860449, 168.60253803, 247.73006604, 164.34131165,\n",
       "       180.33060493, 172.47844121, 220.40166549, 152.63122663,\n",
       "       250.98579549, 249.34233149, 244.92957056, 242.22062951,\n",
       "       219.17243613, 240.55701514, 278.16939483, 245.39316836,\n",
       "       291.76508915, 295.64548557, 317.93834421, 334.38443115,\n",
       "       408.33930078, 337.32310095, 352.66650415, 348.30147244,\n",
       "       361.39023844, 354.89159173, 417.4631769 , 363.94508266,\n",
       "       420.96267313, 429.55799083, 453.94075791, 442.7405737 ,\n",
       "       456.39451575, 482.62674572, 498.78831507, 450.27097084,\n",
       "       485.51983858])"
      ]
     },
     "execution_count": 9,
     "metadata": {},
     "output_type": "execute_result"
    }
   ],
   "source": [
    "y"
   ]
  },
  {
   "cell_type": "code",
   "execution_count": 10,
   "metadata": {},
   "outputs": [
    {
     "data": {
      "text/plain": [
       "<matplotlib.collections.PathCollection at 0x7f690f902630>"
      ]
     },
     "execution_count": 10,
     "metadata": {},
     "output_type": "execute_result"
    },
    {
     "data": {
      "image/png": "[encoded data removed]",
      "text/plain": [
       "<Figure size 432x288 with 1 Axes>"
      ]
     },
     "metadata": {},
     "output_type": "display_data"
    }
   ],
   "source": [
    "plt.scatter(x, y)"
   ]
  },
  {
   "cell_type": "markdown",
   "metadata": {},
   "source": [
    "### Calculating cost on custom parameters"
   ]
  },
  {
   "cell_type": "code",
   "execution_count": 11,
   "metadata": {
    "scrolled": true
   },
   "outputs": [
    {
     "data": {
      "text/plain": [
       "27631.55831609101"
      ]
     },
     "execution_count": 11,
     "metadata": {},
     "output_type": "execute_result"
    }
   ],
   "source": [
    "params = [1,1]\n",
    "cost_function(x,y, params)"
   ]
  },
  {
   "cell_type": "markdown",
   "metadata": {},
   "source": [
    "### Running the Gradient Descent"
   ]
  },
  {
   "cell_type": "code",
   "execution_count": 12,
   "metadata": {
    "scrolled": true
   },
   "outputs": [],
   "source": [
    "params = [1,1]\n",
    "theta, cs, its = gradient_descent(x, y, params,precision=0.000001, alpha=0.0006)"
   ]
  },
  {
   "cell_type": "code",
   "execution_count": 13,
   "metadata": {
    "scrolled": false
   },
   "outputs": [
    {
     "name": "stdout",
     "output_type": "stream",
     "text": [
      "theta0 = 13.501499672681922 | theta1 = 4.872345772746246\n"
     ]
    }
   ],
   "source": [
    "print(\"theta0 = {} | theta1 = {}\".format(theta[0], theta[1]))"
   ]
  },
  {
   "cell_type": "markdown",
   "metadata": {},
   "source": [
    "### Plotting the regression line on newly obtained parameters from Gradient Descent"
   ]
  },
  {
   "cell_type": "code",
   "execution_count": 14,
   "metadata": {
    "scrolled": true
   },
   "outputs": [
    {
     "data": {
      "text/plain": [
       "[<matplotlib.lines.Line2D at 0x7f690f8c8550>]"
      ]
     },
     "execution_count": 14,
     "metadata": {},
     "output_type": "execute_result"
    },
    {
     "data": {
      "image/png": "[encoded data removed]",
      "text/plain": [
       "<Figure size 432x288 with 1 Axes>"
      ]
     },
     "metadata": {},
     "output_type": "display_data"
    }
   ],
   "source": [
    "y_updated = theta[0] + theta[1]*x\n",
    "plt.scatter(x, y)\n",
    "plt.plot(x, y_updated, color='r')"
   ]
  },
  {
   "cell_type": "markdown",
   "metadata": {},
   "source": [
    "### Adding an outlier - high leverage point"
   ]
  },
  {
   "cell_type": "code",
   "execution_count": 15,
   "metadata": {},
   "outputs": [],
   "source": [
    "x = np.concatenate((x,[80]))"
   ]
  },
  {
   "cell_type": "code",
   "execution_count": 16,
   "metadata": {},
   "outputs": [],
   "source": [
    "y = np.concatenate((y,[-300]))"
   ]
  },
  {
   "cell_type": "code",
   "execution_count": 17,
   "metadata": {
    "scrolled": true
   },
   "outputs": [],
   "source": [
    "params = [1,1]\n",
    "theta, cs, its = gradient_descent(x, y, params,precision=0.000001, alpha=0.0006)\n"
   ]
  },
  {
   "cell_type": "code",
   "execution_count": 18,
   "metadata": {
    "scrolled": false
   },
   "outputs": [
    {
     "name": "stdout",
     "output_type": "stream",
     "text": [
      "theta0 = 1.0050535506265084 | theta1 = 0.8671887551141317\n"
     ]
    }
   ],
   "source": [
    "print(\"theta0 = {} | theta1 = {}\".format(theta[0], theta[1]))"
   ]
  },
  {
   "cell_type": "code",
   "execution_count": 19,
   "metadata": {
    "scrolled": true
   },
   "outputs": [
    {
     "data": {
      "text/plain": [
       "[<matplotlib.lines.Line2D at 0x7f690f839400>]"
      ]
     },
     "execution_count": 19,
     "metadata": {},
     "output_type": "execute_result"
    },
    {
     "data": {
      "image/png": "[encoded data removed]",
      "text/plain": [
       "<Figure size 432x288 with 1 Axes>"
      ]
     },
     "metadata": {},
     "output_type": "display_data"
    }
   ],
   "source": [
    "y_updated = theta[0] + theta[1]*x\n",
    "plt.scatter(x, y)\n",
    "plt.plot(x, y_updated, color='r')"
   ]
  },
  {
   "cell_type": "code",
   "execution_count": 20,
   "metadata": {},
   "outputs": [
    {
     "name": "stdout",
     "output_type": "stream",
     "text": [
      "Total time taken by program: 5.794374465942383 seconds \n"
     ]
    }
   ],
   "source": [
    "print(\"Total time taken by program: {} seconds \".format((time.time() - start_time)))"
   ]
  },
  {
   "cell_type": "code",
   "execution_count": null,
   "metadata": {},
   "outputs": [],
   "source": []
  }
 ],
 "metadata": {
  "kernelspec": {
   "display_name": "Python 3",
   "language": "python",
   "name": "python3"
  },
  "language_info": {
   "codemirror_mode": {
    "name": "ipython",
    "version": 3
   },
   "file_extension": ".py",
   "mimetype": "text/x-python",
   "name": "python",
   "nbconvert_exporter": "python",
   "pygments_lexer": "ipython3",
   "version": "3.5.2"
  }
 },
 "nbformat": 4,
 "nbformat_minor": 2
}
