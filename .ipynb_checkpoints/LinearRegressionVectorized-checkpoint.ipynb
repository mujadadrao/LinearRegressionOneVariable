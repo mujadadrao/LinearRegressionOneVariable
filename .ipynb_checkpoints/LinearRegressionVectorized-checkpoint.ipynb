{
 "cells": [
  {
   "cell_type": "code",
   "execution_count": 197,
   "metadata": {},
   "outputs": [],
   "source": [
    "import numpy as np\n",
    "import time\n",
    "import matplotlib.pyplot as plt\n",
    "%matplotlib inline"
   ]
  },
  {
   "cell_type": "code",
   "execution_count": 198,
   "metadata": {},
   "outputs": [],
   "source": [
    "start_time = time.time()"
   ]
  },
  {
   "cell_type": "markdown",
   "metadata": {},
   "source": [
    "### Generating Data"
   ]
  },
  {
   "cell_type": "code",
   "execution_count": 199,
   "metadata": {},
   "outputs": [],
   "source": [
    "# A simple function generating random predictors and responses!\n",
    "def gen_data(start=2, end=100, step=2, add_noise=0):\n",
    "    \n",
    "    x = np.arange(start, end, step)\n",
    "    y = np.add(np.multiply(x, 5), 10)\n",
    "    #theta0 = 10, theta1 = 5\n",
    "    \n",
    "    if add_noise > 0:\n",
    "        y = np.random.normal(y, add_noise)\n",
    "        \n",
    "    for i,v in enumerate(np.nditer(y)):\n",
    "        if v < 0:\n",
    "            y[i] = np.random.randint(low=start, high=end)\n",
    "        \n",
    "    return x, y"
   ]
  },
  {
   "cell_type": "markdown",
   "metadata": {},
   "source": [
    "### Hypothesis Function"
   ]
  },
  {
   "cell_type": "code",
   "execution_count": 200,
   "metadata": {},
   "outputs": [],
   "source": [
    "def calculate_hyp(x, params):\n",
    "    \n",
    "    h_of_x = np.multiply(x, params[1])\n",
    "    h_of_x = np.add(h_of_x, params[0])\n",
    "    \n",
    "    return h_of_x"
   ]
  },
  {
   "cell_type": "markdown",
   "metadata": {},
   "source": [
    "### Cost Function - Vectorized"
   ]
  },
  {
   "cell_type": "code",
   "execution_count": 201,
   "metadata": {},
   "outputs": [],
   "source": [
    "def cost_function(x, y, params):\n",
    "    \n",
    "    m = len(y)    \n",
    "    \n",
    "    #hypothesis h(x)\n",
    "    h_of_x = calculate_hyp(x, params)\n",
    "    \n",
    "    #performing calculations\n",
    "    res = np.subtract(h_of_x, y)\n",
    "    res = np.square(res)\n",
    "    sum_of_squared_errors = np.sum(res)\n",
    "    \n",
    "    #calculating cost\n",
    "    cost = np.divide(sum_of_squared_errors, np.multiply(m, 2))\n",
    "    \n",
    "    return cost"
   ]
  },
  {
   "cell_type": "markdown",
   "metadata": {},
   "source": [
    "### Function to calculate Sum of Errors (formula) - Vectorized"
   ]
  },
  {
   "cell_type": "code",
   "execution_count": 202,
   "metadata": {},
   "outputs": [],
   "source": [
    "def calculate_sum_of_errors(x, y, params, with_xi = False):\n",
    "    \n",
    "    m = len(y)\n",
    "    sum_of_errors = 0\n",
    "    \n",
    "    if with_xi:\n",
    "        #hypothesis h(x)\n",
    "        h_of_x = calculate_hyp(x, params)\n",
    "        \n",
    "        #performing calculations\n",
    "        res = np.subtract(h_of_x, y)\n",
    "        res = np.multiply(res, x)\n",
    "        sum_of_errors = np.sum(res)\n",
    "\n",
    "    else:\n",
    "        #hypothesis h(x)\n",
    "        h_of_x = calculate_hyp(x, params)\n",
    "\n",
    "        #performing calculations\n",
    "        res = np.subtract(h_of_x, y)\n",
    "        sum_of_errors = np.sum(res)\n",
    "    \n",
    "    return sum_of_errors"
   ]
  },
  {
   "cell_type": "markdown",
   "metadata": {},
   "source": [
    "### Gradient Descent Function"
   ]
  },
  {
   "cell_type": "code",
   "execution_count": 203,
   "metadata": {
    "scrolled": true
   },
   "outputs": [],
   "source": [
    "def gradient_descent(x, y, params, alpha, precision=0.5 , iterations=0):\n",
    "    \n",
    "    m = len(y)\n",
    "    cost_history = list()\n",
    "    first_iteration = True\n",
    "    iterations = 0\n",
    "    \n",
    "    while True:\n",
    "        \n",
    "        sum_of_errors = calculate_sum_of_errors(x, y, params)\n",
    "        sum_of_errors_xi = calculate_sum_of_errors(x, y, params, with_xi=True)\n",
    "        \n",
    "        temp0 = params[0] - alpha * 1/m * sum_of_errors\n",
    "        temp1 = params[1] - alpha * 1/m * sum_of_errors_xi\n",
    "                \n",
    "        if np.isinf(temp0) or np.isinf(temp1):\n",
    "            break\n",
    "        \n",
    "        params[0] = temp0\n",
    "        params[1] = temp1\n",
    "    \n",
    "        curr_cost = cost_function(x, y, params)\n",
    "                \n",
    "#         print(\"theta0 = {} | theta1 = {} | curr_cost = {}\".format(params[0],params[1], curr_cost))\n",
    "            \n",
    "        if curr_cost < precision:\n",
    "            break\n",
    "        \n",
    "        \n",
    "        if not(first_iteration) and (cost_history[-1] - curr_cost <= precision):\n",
    "            break\n",
    "        \n",
    "        if first_iteration:\n",
    "            first_iteration = False\n",
    "    \n",
    "        cost_history.append(curr_cost)\n",
    "    \n",
    "        iterations += 1\n",
    "        \n",
    "    return params, cost_history, iterations"
   ]
  },
  {
   "cell_type": "markdown",
   "metadata": {},
   "source": [
    "### Intitializing the data variables"
   ]
  },
  {
   "cell_type": "code",
   "execution_count": 204,
   "metadata": {},
   "outputs": [],
   "source": [
    "x, y = gen_data(start=2, end=200, add_noise=50)"
   ]
  },
  {
   "cell_type": "code",
   "execution_count": 205,
   "metadata": {},
   "outputs": [
    {
     "data": {
      "text/plain": [
       "<matplotlib.collections.PathCollection at 0x7fcdbd56ae48>"
      ]
     },
     "execution_count": 205,
     "metadata": {},
     "output_type": "execute_result"
    },
    {
     "data": {
      "image/png": "[encoded data removed]",
      "text/plain": [
       "<Figure size 432x288 with 1 Axes>"
      ]
     },
     "metadata": {},
     "output_type": "display_data"
    }
   ],
   "source": [
    "plt.scatter(x, y)"
   ]
  },
  {
   "cell_type": "markdown",
   "metadata": {},
   "source": [
    "### Calculating cost on custom parameters"
   ]
  },
  {
   "cell_type": "code",
   "execution_count": 206,
   "metadata": {
    "scrolled": true
   },
   "outputs": [
    {
     "data": {
      "text/plain": [
       "108621.31957080474"
      ]
     },
     "execution_count": 206,
     "metadata": {},
     "output_type": "execute_result"
    }
   ],
   "source": [
    "params = [1,1]\n",
    "cost_function(x,y, params)"
   ]
  },
  {
   "cell_type": "markdown",
   "metadata": {},
   "source": [
    "### Running the Gradient Descent"
   ]
  },
  {
   "cell_type": "code",
   "execution_count": 207,
   "metadata": {
    "scrolled": true
   },
   "outputs": [],
   "source": [
    "params = [1,1]\n",
    "theta, cs, its = gradient_descent(x, y, params,precision=0.0000001, alpha=0.0001)"
   ]
  },
  {
   "cell_type": "code",
   "execution_count": 208,
   "metadata": {
    "scrolled": false
   },
   "outputs": [
    {
     "name": "stdout",
     "output_type": "stream",
     "text": [
      "theta0 = 34.492324383689734 | theta1 = 4.76710165578385\n"
     ]
    }
   ],
   "source": [
    "print(\"theta0 = {} | theta1 = {}\".format(theta[0], theta[1]))"
   ]
  },
  {
   "cell_type": "markdown",
   "metadata": {},
   "source": [
    "### Plotting the regression line on newly obtained parameters from Gradient Descent"
   ]
  },
  {
   "cell_type": "code",
   "execution_count": 209,
   "metadata": {
    "scrolled": true
   },
   "outputs": [
    {
     "data": {
      "text/plain": [
       "[<matplotlib.lines.Line2D at 0x7fcdbd423dd8>]"
      ]
     },
     "execution_count": 209,
     "metadata": {},
     "output_type": "execute_result"
    },
    {
     "data": {
      "image/png": "[encoded data removed]",
      "text/plain": [
       "<Figure size 432x288 with 1 Axes>"
      ]
     },
     "metadata": {},
     "output_type": "display_data"
    }
   ],
   "source": [
    "y_updated = theta[0] + theta[1]*x\n",
    "plt.scatter(x, y)\n",
    "plt.plot(x, y_updated, color='r')"
   ]
  },
  {
   "cell_type": "markdown",
   "metadata": {},
   "source": [
    "### Adding an outlier - high leverage point"
   ]
  },
  {
   "cell_type": "code",
   "execution_count": 210,
   "metadata": {},
   "outputs": [],
   "source": [
    "x = np.concatenate((x,[80]))"
   ]
  },
  {
   "cell_type": "code",
   "execution_count": 211,
   "metadata": {},
   "outputs": [],
   "source": [
    "y_w_outlier = np.concatenate((y,[-50]))"
   ]
  },
  {
   "cell_type": "code",
   "execution_count": 212,
   "metadata": {
    "scrolled": true
   },
   "outputs": [],
   "source": [
    "params = [1,1]\n",
    "theta, cs, its = gradient_descent(x, y_w_outlier, params,precision=0.000001, alpha=0.0006)\n"
   ]
  },
  {
   "cell_type": "code",
   "execution_count": 213,
   "metadata": {
    "scrolled": false
   },
   "outputs": [
    {
     "name": "stdout",
     "output_type": "stream",
     "text": [
      "theta0 = -0.40733598148747285 | theta1 = -186.1245733834512\n"
     ]
    }
   ],
   "source": [
    "print(\"theta0 = {} | theta1 = {}\".format(theta[0], theta[1]))"
   ]
  },
  {
   "cell_type": "code",
   "execution_count": 214,
   "metadata": {
    "scrolled": true
   },
   "outputs": [
    {
     "data": {
      "text/plain": [
       "[<matplotlib.lines.Line2D at 0x7fcdbc994da0>]"
      ]
     },
     "execution_count": 214,
     "metadata": {},
     "output_type": "execute_result"
    },
    {
     "data": {
      "image/png": "[encoded data removed]",
      "text/plain": [
       "<Figure size 432x288 with 1 Axes>"
      ]
     },
     "metadata": {},
     "output_type": "display_data"
    }
   ],
   "source": [
    "y_updated = theta[0] + theta[1]*x\n",
    "plt.scatter(x, y_w_outlier)\n",
    "plt.plot(x, y_updated, color='r')"
   ]
  },
  {
   "cell_type": "code",
   "execution_count": 215,
   "metadata": {},
   "outputs": [
    {
     "name": "stdout",
     "output_type": "stream",
     "text": [
      "Total time taken by program: 17.013980627059937 seconds \n"
     ]
    }
   ],
   "source": [
    "print(\"Total time taken by program: {} seconds \".format((time.time() - start_time)))"
   ]
  },
  {
   "cell_type": "code",
   "execution_count": null,
   "metadata": {},
   "outputs": [],
   "source": []
  }
 ],
 "metadata": {
  "kernelspec": {
   "display_name": "Python 3",
   "language": "python",
   "name": "python3"
  },
  "language_info": {
   "codemirror_mode": {
    "name": "ipython",
    "version": 3
   },
   "file_extension": ".py",
   "mimetype": "text/x-python",
   "name": "python",
   "nbconvert_exporter": "python",
   "pygments_lexer": "ipython3",
   "version": "3.5.2"
  }
 },
 "nbformat": 4,
 "nbformat_minor": 2
}
