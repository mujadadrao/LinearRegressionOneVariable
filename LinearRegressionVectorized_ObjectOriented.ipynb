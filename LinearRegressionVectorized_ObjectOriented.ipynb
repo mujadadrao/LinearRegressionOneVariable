{
 "cells": [
  {
   "cell_type": "code",
   "execution_count": 13,
   "metadata": {},
   "outputs": [],
   "source": [
    "import numpy as np\n",
    "import time\n",
    "import matplotlib.pyplot as plt\n",
    "%matplotlib inline"
   ]
  },
  {
   "cell_type": "code",
   "execution_count": 14,
   "metadata": {},
   "outputs": [],
   "source": [
    "start_time = time.time()"
   ]
  },
  {
   "cell_type": "code",
   "execution_count": 15,
   "metadata": {},
   "outputs": [],
   "source": [
    "class LinearRegression:\n",
    "        \n",
    "    def __init__(self, x=np.array([1,2,3]), y=np.array([3,5,7]), params=[1,1], precision=0.000000000001, alpha=0.0006, random=False):\n",
    "        if not(random):\n",
    "            self.x = x\n",
    "            self.y = y\n",
    "            self.params = params\n",
    "            self.precision = precision\n",
    "            self.alpha = alpha\n",
    "        else:\n",
    "            self.x, self.y = self.gen_data(start=2, end=100, add_noise=20)\n",
    "            self.params = [1, 1]\n",
    "            self.precision = precision\n",
    "            self.alpha = alpha\n",
    "            \n",
    "    \n",
    "    def calculate_hyp(self, x, params):\n",
    "    \n",
    "        h_of_x = np.multiply(x, params[1])\n",
    "        h_of_x = np.add(h_of_x, params[0])\n",
    "\n",
    "        return h_of_x\n",
    "\n",
    "    def cost_function(self, x, y, params):\n",
    "    \n",
    "        m = len(y)    \n",
    "\n",
    "        #hypothesis h(x)\n",
    "        h_of_x = self.calculate_hyp(x, params)\n",
    "\n",
    "        #performing calculations\n",
    "        res = np.subtract(h_of_x, y)\n",
    "        res = np.square(res)\n",
    "        sum_of_squared_errors = np.sum(res)\n",
    "\n",
    "        #calculating cost\n",
    "        cost = np.divide(sum_of_squared_errors, np.multiply(m, 2))\n",
    "\n",
    "        return cost\n",
    "    \n",
    "    def calculate_sum_of_errors(self, x, y, params, with_xi = False):\n",
    "    \n",
    "        m = len(y)\n",
    "        sum_of_errors = 0\n",
    "\n",
    "        if with_xi:\n",
    "            #hypothesis h(x)\n",
    "            h_of_x = self.calculate_hyp(x, params)\n",
    "\n",
    "            #performing calculations\n",
    "            res = np.subtract(h_of_x, y)\n",
    "            res = np.multiply(res, x)\n",
    "            sum_of_errors = np.sum(res)\n",
    "\n",
    "        else:\n",
    "            #hypothesis h(x)\n",
    "            h_of_x = self.calculate_hyp(x, params)\n",
    "\n",
    "            #performing calculations\n",
    "            res = np.subtract(h_of_x, y)\n",
    "            sum_of_errors = np.sum(res)\n",
    "\n",
    "        return sum_of_errors\n",
    "    \n",
    "    def gradient_descent(self, x, y, params, alpha, precision=0.5 , iterations=0):\n",
    "    \n",
    "        m = len(y)\n",
    "        cost_history = list()\n",
    "        first_iteration = True\n",
    "        iterations = 0\n",
    "\n",
    "        while True:\n",
    "\n",
    "            sum_of_errors = self.calculate_sum_of_errors(x, y, params)\n",
    "            sum_of_errors_xi = self.calculate_sum_of_errors(x, y, params, with_xi=True)\n",
    "\n",
    "            temp0 = params[0] - alpha * 1/m * sum_of_errors\n",
    "            temp1 = params[1] - alpha * 1/m * sum_of_errors_xi\n",
    "\n",
    "            if np.isinf(temp0) or np.isinf(temp1):\n",
    "                break\n",
    "\n",
    "            params[0] = temp0\n",
    "            params[1] = temp1\n",
    "\n",
    "            curr_cost = self.cost_function(x, y, params)\n",
    "\n",
    "    #         print(\"theta0 = {} | theta1 = {} | curr_cost = {}\".format(params[0],params[1], curr_cost))\n",
    "\n",
    "            if curr_cost < precision:\n",
    "                break\n",
    "\n",
    "\n",
    "            if not(first_iteration) and (cost_history[-1] - curr_cost <= precision):\n",
    "                break\n",
    "\n",
    "            if first_iteration:\n",
    "                first_iteration = False\n",
    "\n",
    "            cost_history.append(curr_cost)\n",
    "\n",
    "            iterations += 1\n",
    "\n",
    "        return params, cost_history, iterations\n",
    "    \n",
    "    def add_outlier(self, x_coord=80, y_coord=-300):\n",
    "        x = np.concatenate((x,[x_coord]))\n",
    "        y_w_outlier = np.concatenate((y,[-y_coord]))\n",
    "        params = [1,1]\n",
    "        theta, cs, its = gradient_descent(x, y_w_outlier, params,precision=self.precision, alpha=self.alpha)\n",
    "        print(\"theta0 = {} | theta1 = {}\".format(theta[0], theta[1]))\n",
    "        y_updated = theta[0] + theta[1]*x\n",
    "        plt.scatter(x, y_w_outlier)\n",
    "        plt.plot(x, y_updated, color='r')\n",
    "        \n",
    "    # A simple function generating random predictors and responses!\n",
    "    def gen_data(self, start=2, end=100, step=2, add_noise=0):\n",
    "\n",
    "        x = np.arange(start, end, step)\n",
    "        y = 10 + 5*x\n",
    "\n",
    "        if add_noise > 0:\n",
    "            y = np.random.normal(y, add_noise)\n",
    "\n",
    "        return x, y\n",
    "    \n",
    "    def run(self):\n",
    "        theta, cs, its = self.gradient_descent(self.x, self.y, self.params,precision=0.000000000001, alpha=0.0006)\n",
    "        print(\"theta0 = {} | theta1 = {} | iterations= {}\".format(theta[0], theta[1], its))\n",
    "        y_updated = theta[0] + theta[1]*self.x\n",
    "        plt.scatter(self.x, self.y)\n",
    "        plt.plot(self.x, y_updated, color='r')\n",
    "        "
   ]
  },
  {
   "cell_type": "markdown",
   "metadata": {},
   "source": [
    "### Running the algorithm"
   ]
  },
  {
   "cell_type": "code",
   "execution_count": 16,
   "metadata": {},
   "outputs": [
    {
     "name": "stdout",
     "output_type": "stream",
     "text": [
      "theta0 = 13.476604500541098 | theta1 = 4.920729192304764 | iterations= 76686\n"
     ]
    },
    {
     "data": {
      "image/png": "[encoded data removed]",
      "text/plain": [
       "<Figure size 432x288 with 1 Axes>"
      ]
     },
     "metadata": {},
     "output_type": "display_data"
    }
   ],
   "source": [
    "model = LinearRegression(random=True)\n",
    "model.run()"
   ]
  },
  {
   "cell_type": "code",
   "execution_count": 17,
   "metadata": {},
   "outputs": [
    {
     "name": "stdout",
     "output_type": "stream",
     "text": [
      "Total time taken by program: 5.450786590576172 seconds \n"
     ]
    }
   ],
   "source": [
    "print(\"Total time taken by program: {} seconds \".format((time.time() - start_time)))"
   ]
  },
  {
   "cell_type": "code",
   "execution_count": null,
   "metadata": {},
   "outputs": [],
   "source": []
  }
 ],
 "metadata": {
  "kernelspec": {
   "display_name": "Python 3",
   "language": "python",
   "name": "python3"
  },
  "language_info": {
   "codemirror_mode": {
    "name": "ipython",
    "version": 3
   },
   "file_extension": ".py",
   "mimetype": "text/x-python",
   "name": "python",
   "nbconvert_exporter": "python",
   "pygments_lexer": "ipython3",
   "version": "3.5.2"
  }
 },
 "nbformat": 4,
 "nbformat_minor": 2
}
